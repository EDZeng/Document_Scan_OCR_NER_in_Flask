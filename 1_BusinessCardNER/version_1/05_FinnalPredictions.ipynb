{
 "cells": [
  {
   "cell_type": "code",
   "execution_count": 1,
   "id": "9128537e-32a1-44a7-8218-4979ccfd4abe",
   "metadata": {},
   "outputs": [],
   "source": [
    "import cv2\n",
    "import predictions as pred"
   ]
  },
  {
   "cell_type": "code",
   "execution_count": 5,
   "id": "47f892bd-99de-4d91-8c7c-807ea92b170a",
   "metadata": {},
   "outputs": [],
   "source": [
    "img = cv2.imread('./data/242.jpeg')\n",
    "img54 = cv2.imread('./data/54.jpg')\n",
    "cv2.namedWindow('for_test', cv2.WINDOW_NORMAL)\n",
    "cv2.imshow('for_test', img)\n",
    "cv2.waitKey()\n",
    "cv2.destroyAllWindows()"
   ]
  },
  {
   "cell_type": "code",
   "execution_count": 3,
   "id": "67a1b94c-5cf3-48fc-91cf-5093786bbf96",
   "metadata": {},
   "outputs": [
    {
     "name": "stdout",
     "output_type": "stream",
     "text": [
      "Dr. T. S. Reddy Senior Consultant Traffic Transportation LEA Associates South Asia Pvt. Ltd. LEAdership in Consulting Engineers Planners engineering HL No 1-4-879/54/1A, Street No. 8, p lannin g Near Vijaya Bank, Lower Tank Bund, Gandhinagar, Hyderabad-500080 A.P. India solutions Tel 91-40-66747122 / 66747135 . Mobile 91-91778 82230 Email tsr@lasaindia.com ———— limmappagari@ymait.com _ ALEA Group company Website - www lasaindia.com\n",
      "{'NAME': [], 'ORG': ['Associates South Asia Pvt'], 'DES': ['Reddy', 'Senior Consultant'], 'PHONE': ['91', '66747135', '9182230'], 'EMAIL': ['tsr@lasaindia.com', 'limmappagari@ymait.com'], 'WEB': ['wwwlasaindia.com']}\n"
     ]
    }
   ],
   "source": [
    "img_result, entities = pred.getPredictions(img)\n",
    "\n",
    "print(entities)\n",
    "cv2.namedWindow('for_test', cv2.WINDOW_NORMAL)\n",
    "cv2.imshow('for_test', img_result)\n",
    "cv2.waitKey()\n",
    "cv2.destroyAllWindows()"
   ]
  },
  {
   "cell_type": "code",
   "execution_count": 6,
   "id": "a141da89-bfe6-4c89-ac0a-608b5b0a576f",
   "metadata": {},
   "outputs": [
    {
     "name": "stdout",
     "output_type": "stream",
     "text": [
      "Stanford Stanford MEDICINE Cardiovascular Institute Joseph C. Wu, MD, PhD Director, Stanford Cardiovascular Institute Professor Medicine Cardiology Radiology 265 Campus Drive, G-1120B ek 650 736-2246 Stanford, CA 94305, MC-5454 http//wulab.stanford.edu joewu@stanford.edu hetp//evistanford.edu\n",
      "{'NAME': ['Joseph'], 'ORG': [], 'DES': ['Director'], 'PHONE': ['650', '736'], 'EMAIL': ['cardiovascular', 'joewu@stanford.edu'], 'WEB': ['http//wulab.stanford.edu', 'hetp//evistanford.edu']}\n"
     ]
    }
   ],
   "source": [
    "img_result, entities = pred.getPredictions(img54)\n",
    "\n",
    "print(entities)\n",
    "cv2.namedWindow('for_test', cv2.WINDOW_NORMAL)\n",
    "cv2.imshow('for_test', img_result)\n",
    "cv2.waitKey()\n",
    "cv2.destroyAllWindows()"
   ]
  },
  {
   "cell_type": "code",
   "execution_count": null,
   "id": "6e547dbf-8c86-44bb-b9f2-f3c2a71d87a7",
   "metadata": {},
   "outputs": [],
   "source": []
  }
 ],
 "metadata": {
  "kernelspec": {
   "display_name": "Python 3 (ipykernel)",
   "language": "python",
   "name": "python3"
  },
  "language_info": {
   "codemirror_mode": {
    "name": "ipython",
    "version": 3
   },
   "file_extension": ".py",
   "mimetype": "text/x-python",
   "name": "python",
   "nbconvert_exporter": "python",
   "pygments_lexer": "ipython3",
   "version": "3.9.17"
  }
 },
 "nbformat": 4,
 "nbformat_minor": 5
}
